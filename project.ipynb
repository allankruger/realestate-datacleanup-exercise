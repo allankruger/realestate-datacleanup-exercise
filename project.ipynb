{
 "cells": [
  {
   "attachments": {},
   "cell_type": "markdown",
   "id": "innocent-university",
   "metadata": {},
   "source": [
    "# Real Estate Clean up\n",
    "\n",
    "This is a real dataset and it was downloaded using web scraping techniques. The data contains registers from fotocasa which is one of the most popular websites of real estate in Spain. Please, do not do this (web scraping) unless it is for academic purposes.\n",
    "\n",
    "The dataset was downloaded a few years ago by Henry Navarro and In no case were economic returns obtained from it.\n",
    "\n",
    "It contains thousands of data from real houses published on the web www.fotocasa.com. Your goal is to extract as much information as possible with the knowledge you have so far about data science, for example what is the most expensive house in the entire dataset?\n",
    "\n",
    "Let's start with precisely that question... Good luck!"
   ]
  },
  {
   "attachments": {},
   "cell_type": "markdown",
   "id": "multiple-glass",
   "metadata": {},
   "source": [
    "#### Exercise 00. Read the dataset assets/real_estate.csv and try to visualize the table (★☆☆)"
   ]
  },
  {
   "cell_type": "code",
   "execution_count": 2,
   "id": "frank-heath",
   "metadata": {},
   "outputs": [
    {
     "data": {
      "text/html": [
       "<div>\n",
       "<style scoped>\n",
       "    .dataframe tbody tr th:only-of-type {\n",
       "        vertical-align: middle;\n",
       "    }\n",
       "\n",
       "    .dataframe tbody tr th {\n",
       "        vertical-align: top;\n",
       "    }\n",
       "\n",
       "    .dataframe thead th {\n",
       "        text-align: right;\n",
       "    }\n",
       "</style>\n",
       "<table border=\"1\" class=\"dataframe\">\n",
       "  <thead>\n",
       "    <tr style=\"text-align: right;\">\n",
       "      <th></th>\n",
       "      <th>id_realEstates</th>\n",
       "      <th>isNew</th>\n",
       "      <th>realEstate_name</th>\n",
       "      <th>phone_realEstate</th>\n",
       "      <th>url_inmueble</th>\n",
       "      <th>rooms</th>\n",
       "      <th>bathrooms</th>\n",
       "      <th>surface</th>\n",
       "      <th>price</th>\n",
       "      <th>date</th>\n",
       "      <th>...</th>\n",
       "      <th>level4Id</th>\n",
       "      <th>level5Id</th>\n",
       "      <th>level6Id</th>\n",
       "      <th>level7Id</th>\n",
       "      <th>level8Id</th>\n",
       "      <th>accuracy</th>\n",
       "      <th>latitude</th>\n",
       "      <th>longitude</th>\n",
       "      <th>zipCode</th>\n",
       "      <th>customZone</th>\n",
       "    </tr>\n",
       "  </thead>\n",
       "  <tbody>\n",
       "    <tr>\n",
       "      <th>1</th>\n",
       "      <td>153771986</td>\n",
       "      <td>False</td>\n",
       "      <td>ferrari 57 inmobiliaria</td>\n",
       "      <td>912177526.0</td>\n",
       "      <td>https://www.fotocasa.es/es/comprar/vivienda/ma...</td>\n",
       "      <td>3.0</td>\n",
       "      <td>2.0</td>\n",
       "      <td>103.0</td>\n",
       "      <td>195000</td>\n",
       "      <td>2019-12-28T18:27:15.9975027Z</td>\n",
       "      <td>...</td>\n",
       "      <td>0</td>\n",
       "      <td>0</td>\n",
       "      <td>0</td>\n",
       "      <td>0</td>\n",
       "      <td>0</td>\n",
       "      <td>0</td>\n",
       "      <td>40,2948276786438</td>\n",
       "      <td>-3,44402412135624</td>\n",
       "      <td>NaN</td>\n",
       "      <td>NaN</td>\n",
       "    </tr>\n",
       "    <tr>\n",
       "      <th>2</th>\n",
       "      <td>153867863</td>\n",
       "      <td>False</td>\n",
       "      <td>tecnocasa fuenlabrada ferrocarril</td>\n",
       "      <td>916358736.0</td>\n",
       "      <td>https://www.fotocasa.es/es/comprar/vivienda/ma...</td>\n",
       "      <td>3.0</td>\n",
       "      <td>1.0</td>\n",
       "      <td>NaN</td>\n",
       "      <td>89000</td>\n",
       "      <td>2019-12-28T18:27:15.9975027Z</td>\n",
       "      <td>...</td>\n",
       "      <td>0</td>\n",
       "      <td>0</td>\n",
       "      <td>0</td>\n",
       "      <td>0</td>\n",
       "      <td>0</td>\n",
       "      <td>1</td>\n",
       "      <td>40,28674</td>\n",
       "      <td>-3,79351</td>\n",
       "      <td>NaN</td>\n",
       "      <td>NaN</td>\n",
       "    </tr>\n",
       "    <tr>\n",
       "      <th>3</th>\n",
       "      <td>153430440</td>\n",
       "      <td>False</td>\n",
       "      <td>look find boadilla</td>\n",
       "      <td>916350408.0</td>\n",
       "      <td>https://www.fotocasa.es/es/comprar/vivienda/ma...</td>\n",
       "      <td>2.0</td>\n",
       "      <td>2.0</td>\n",
       "      <td>99.0</td>\n",
       "      <td>390000</td>\n",
       "      <td>2019-12-28T18:27:15.9975027Z</td>\n",
       "      <td>...</td>\n",
       "      <td>0</td>\n",
       "      <td>0</td>\n",
       "      <td>0</td>\n",
       "      <td>0</td>\n",
       "      <td>0</td>\n",
       "      <td>0</td>\n",
       "      <td>40,4115646786438</td>\n",
       "      <td>-3,90662252135624</td>\n",
       "      <td>NaN</td>\n",
       "      <td>NaN</td>\n",
       "    </tr>\n",
       "    <tr>\n",
       "      <th>4</th>\n",
       "      <td>152776331</td>\n",
       "      <td>False</td>\n",
       "      <td>tecnocasa fuenlabrada ferrocarril</td>\n",
       "      <td>916358736.0</td>\n",
       "      <td>https://www.fotocasa.es/es/comprar/vivienda/ma...</td>\n",
       "      <td>3.0</td>\n",
       "      <td>1.0</td>\n",
       "      <td>86.0</td>\n",
       "      <td>89000</td>\n",
       "      <td>2019-12-28T18:27:15.9975027Z</td>\n",
       "      <td>...</td>\n",
       "      <td>0</td>\n",
       "      <td>0</td>\n",
       "      <td>0</td>\n",
       "      <td>0</td>\n",
       "      <td>0</td>\n",
       "      <td>0</td>\n",
       "      <td>40,2853785786438</td>\n",
       "      <td>-3,79508142135624</td>\n",
       "      <td>NaN</td>\n",
       "      <td>NaN</td>\n",
       "    </tr>\n",
       "    <tr>\n",
       "      <th>5</th>\n",
       "      <td>153180188</td>\n",
       "      <td>False</td>\n",
       "      <td>ferrari 57 inmobiliaria</td>\n",
       "      <td>912177526.0</td>\n",
       "      <td>https://www.fotocasa.es/es/comprar/vivienda/ma...</td>\n",
       "      <td>2.0</td>\n",
       "      <td>2.0</td>\n",
       "      <td>106.0</td>\n",
       "      <td>172000</td>\n",
       "      <td>2019-12-28T18:27:15.9975027Z</td>\n",
       "      <td>...</td>\n",
       "      <td>0</td>\n",
       "      <td>0</td>\n",
       "      <td>0</td>\n",
       "      <td>0</td>\n",
       "      <td>0</td>\n",
       "      <td>0</td>\n",
       "      <td>40,2998774864376</td>\n",
       "      <td>-3,45226301356237</td>\n",
       "      <td>NaN</td>\n",
       "      <td>NaN</td>\n",
       "    </tr>\n",
       "  </tbody>\n",
       "</table>\n",
       "<p>5 rows × 36 columns</p>\n",
       "</div>"
      ],
      "text/plain": [
       "   id_realEstates  isNew                    realEstate_name  phone_realEstate  \\\n",
       "1       153771986  False            ferrari 57 inmobiliaria       912177526.0   \n",
       "2       153867863  False  tecnocasa fuenlabrada ferrocarril       916358736.0   \n",
       "3       153430440  False                 look find boadilla       916350408.0   \n",
       "4       152776331  False  tecnocasa fuenlabrada ferrocarril       916358736.0   \n",
       "5       153180188  False            ferrari 57 inmobiliaria       912177526.0   \n",
       "\n",
       "                                        url_inmueble  rooms  bathrooms  \\\n",
       "1  https://www.fotocasa.es/es/comprar/vivienda/ma...    3.0        2.0   \n",
       "2  https://www.fotocasa.es/es/comprar/vivienda/ma...    3.0        1.0   \n",
       "3  https://www.fotocasa.es/es/comprar/vivienda/ma...    2.0        2.0   \n",
       "4  https://www.fotocasa.es/es/comprar/vivienda/ma...    3.0        1.0   \n",
       "5  https://www.fotocasa.es/es/comprar/vivienda/ma...    2.0        2.0   \n",
       "\n",
       "   surface   price                          date  ... level4Id level5Id  \\\n",
       "1    103.0  195000  2019-12-28T18:27:15.9975027Z  ...        0        0   \n",
       "2      NaN   89000  2019-12-28T18:27:15.9975027Z  ...        0        0   \n",
       "3     99.0  390000  2019-12-28T18:27:15.9975027Z  ...        0        0   \n",
       "4     86.0   89000  2019-12-28T18:27:15.9975027Z  ...        0        0   \n",
       "5    106.0  172000  2019-12-28T18:27:15.9975027Z  ...        0        0   \n",
       "\n",
       "  level6Id level7Id level8Id accuracy          latitude          longitude  \\\n",
       "1        0        0        0        0  40,2948276786438  -3,44402412135624   \n",
       "2        0        0        0        1          40,28674           -3,79351   \n",
       "3        0        0        0        0  40,4115646786438  -3,90662252135624   \n",
       "4        0        0        0        0  40,2853785786438  -3,79508142135624   \n",
       "5        0        0        0        0  40,2998774864376  -3,45226301356237   \n",
       "\n",
       "  zipCode customZone  \n",
       "1     NaN        NaN  \n",
       "2     NaN        NaN  \n",
       "3     NaN        NaN  \n",
       "4     NaN        NaN  \n",
       "5     NaN        NaN  \n",
       "\n",
       "[5 rows x 36 columns]"
      ]
     },
     "execution_count": 2,
     "metadata": {},
     "output_type": "execute_result"
    }
   ],
   "source": [
    "import pandas as pd\n",
    "import matplotlib.pyplot as plt\n",
    "\n",
    "# this CSV file contains semicolons instead of comas as separator\n",
    "ds = pd.read_csv('assets/real_estate.csv', sep=';', index_col=0)\n",
    "# Selects only the houses with a price different from zero, being that a house with the price of 0 is unrealistic to this context\n",
    "ds = ds[ds['price'] != 0]\n",
    "ds.head()\n"
   ]
  },
  {
   "attachments": {},
   "cell_type": "markdown",
   "id": "latin-guest",
   "metadata": {},
   "source": [
    "#### Exercise 01. Which is the most expensive house in the dataset? (★☆☆)\n",
    "\n",
    "Print the address and the price of the selected house. For example:\n",
    "\n",
    "`The house with address General Street Nº5 is the most expensive and its price is 5000000 USD`"
   ]
  },
  {
   "cell_type": "code",
   "execution_count": 3,
   "id": "developing-optimum",
   "metadata": {},
   "outputs": [
    {
     "name": "stdout",
     "output_type": "stream",
     "text": [
      "The house with the address El Escorial is the most expensive and its price is 8500000 USD\n"
     ]
    }
   ],
   "source": [
    "most_expensive = ds[ds['price'] == ds['price'].max()]\n",
    "address = most_expensive['address'].to_string(index=False)\n",
    "price = most_expensive['price'].to_string(index=False)\n",
    "print(f\"The house with the address {address} is the most expensive and its price is {price} USD\")"
   ]
  },
  {
   "attachments": {},
   "cell_type": "markdown",
   "id": "lesser-cosmetic",
   "metadata": {},
   "source": [
    "#### Exercise 02. Which is cheapest house in the dataset? (★☆☆)\n",
    "\n",
    "Print the address and the price of the selected house. For example:\n",
    "\n",
    "`The house with address Concrete Street Nº1 is the cheapest and its price is 12000 USD`"
   ]
  },
  {
   "cell_type": "code",
   "execution_count": 4,
   "id": "lovely-oasis",
   "metadata": {},
   "outputs": [
    {
     "name": "stdout",
     "output_type": "stream",
     "text": [
      "The house with the address Berlin, Coslada is the cheapest and its price is 600 USD\n"
     ]
    }
   ],
   "source": [
    "cheapest = ds[ds['price'] == ds['price'].min()]\n",
    "address = cheapest['address'].to_string(index=False)\n",
    "price = cheapest['price'].to_string(index=False)\n",
    "print(f\"The house with the address {address} is the cheapest and its price is {price} USD\")"
   ]
  },
  {
   "attachments": {},
   "cell_type": "markdown",
   "id": "compliant-fellowship",
   "metadata": {},
   "source": [
    "#### Exercise 03. Which is the biggest and the smallest house in the dataset? (★☆☆)\n",
    "\n",
    "Print both the address and the surface of the selected houses. For example:\n",
    "\n",
    "`The bigger house is located on Yukka Street Nº10 and its surface is 5000 meters`\n",
    "\n",
    "`The smaller house is located on County Road 1 N and its surface is 200 meters`"
   ]
  },
  {
   "cell_type": "code",
   "execution_count": 5,
   "id": "every-tiffany",
   "metadata": {},
   "outputs": [
    {
     "name": "stdout",
     "output_type": "stream",
     "text": [
      "The bigger house is located on Sevilla la Nueva and its surface is 249000.0 meters\n",
      "The smaller house is located on Calle Amparo,  Madrid Capital and its surface is 15.0 meters\n"
     ]
    }
   ],
   "source": [
    "#Information of the bigger house\n",
    "bigger = ds[ds['surface'] == ds['surface'].max()]\n",
    "bigger_address = bigger['address'].to_string(index=False)\n",
    "bigger_surface = bigger['surface'].to_string(index=False)\n",
    "\n",
    "#Information of the smaller house\n",
    "smaller = ds[ds['surface'] == ds['surface'].min()]\n",
    "smaller_address = smaller['address'].to_string(index=False)\n",
    "smaller_surface = smaller['surface'].to_string(index=False)\n",
    "\n",
    "#Print data to the screen\n",
    "print(f\"The bigger house is located on {bigger_address} and its surface is {bigger_surface} meters\")\n",
    "print(f\"The smaller house is located on {smaller_address} and its surface is {smaller_surface} meters\")"
   ]
  },
  {
   "attachments": {},
   "cell_type": "markdown",
   "id": "danish-spirit",
   "metadata": {},
   "source": [
    "#### Exercise 04. How many populations (level5 column) the dataset contains? (★☆☆)\n",
    "\n",
    "Print the name of the populations with comma as separator. For example:\n",
    "\n",
    "`> print(populations)`\n",
    "\n",
    "`population1, population2, population3,...`"
   ]
  },
  {
   "cell_type": "code",
   "execution_count": 6,
   "id": "exciting-accreditation",
   "metadata": {},
   "outputs": [
    {
     "name": "stdout",
     "output_type": "stream",
     "text": [
      "There is a total of 168 unique populations in the dataset.\n",
      "Which are:\n",
      " Madrid Capital, Ajalvir, Alcalá de Henares, Alcobendas, Alcorcón, Aldea del Fresno, Algete, Alpedrete, Ambite, Anchuelo, Aranjuez, Arganda del Rey, Arroyomolinos (Madrid), Batres, Becerril de la Sierra, Belmonte de Tajo, Boadilla del Monte, Braojos, Brea de Tajo, Brunete, Buitrago del Lozoya, Bustarviejo, Cabanillas de la Sierra, Cadalso de los Vidrios, Camarma de Esteruelas, Campo Real, Canencia, Carabaña, Casarrubuelos, Cenicientos, Cercedilla, Chapinería, Chinchón, Ciempozuelos, Cobeña, Collado Mediano, Collado Villalba, Colmenar Viejo, Colmenar de Oreja, Colmenar del Arroyo, Colmenarejo, Corpa, Coslada, Cubas de la Sagra, Daganzo de Arriba, El Atazar, El Berrueco, El Boalo - Cerceda – Mataelpino, El Escorial, El Molar (Madrid), El Vellón, El Álamo, Estremera, Fresnedillas de la Oliva, Fresno de Torote, Fresno de Torote - Serracines, Fuenlabrada, Fuente El Saz de Jarama, Fuentidueña de Tajo, Galapagar, Garganta de los Montes, Gargantilla del Lozoya, Gascones, Getafe, Griñón, Guadalix de la Sierra, Guadarrama, Horcajo de la Sierra, Hoyo de Manzanares, Humanes de Madrid, La Cabrera, La Hiruela, Las Rozas de Madrid, Leganés, Loeches, Los Molinos, Los Santos de la Humosa, Lozoya, Lozoyuela-navas-sieteiglesias, Madarcos, Majadahonda, Manzanares El Real, Meco, Mejorada del Campo, Miraflores de la Sierra, Montejo de la Sierra, Moraleja de Enmedio, Moralzarzal, Morata de Tajuña, Móstoles, Navacerrada, Navalafuente, Navalagamella, Navalcarnero, Navarredonda, Navas del Rey, Nuevo Baztán, Orusco de Tajuña, Paracuellos de Jarama, Parla, Patones, Pedrezuela, Pelayos de la Presa, Perales de Tajuña, Pezuela de las Torres, Pinilla del Valle, Pinto, Piñuécar-gandullas, Pozuelo de Alarcón, Pozuelo del Rey, Puentes Viejas, Quijorna, Rascafría, Redueña, Ribatejada, Rivas-vaciamadrid, Robledo de Chavela, Robregordo, San Agustín del Guadalix, San Fernando de Henares, San Lorenzo de El Escorial, San Martín de Valdeiglesias, San Martín de la Vega, San Sebastián de los Reyes, Santa María de la Alameda, Santorcaz, Serranillos del Valle, Sevilla la Nueva, Soto del Real, Talamanca de Jarama, Tielmes, Titulcia, Torrejón de Ardoz, Torrejón de Velasco, Torrejón de la Calzada, Torrelaguna, Torrelodones, Torremocha de Jarama, Torres de la Alameda, Tres Cantos, Valdaracete, Valdeavero, Valdelaguna, Valdemanco, Valdemaqueda, Valdemorillo, Valdemoro, Valdeolmos-Alalpardo, Valdepiélagos, Valdetorres de Jarama, Valdilecha, Valverde de Alcalá, Velilla de San Antonio, Venturada, Villa del Prado, Villaconejos, Villalbilla, Villamanrique de Tajo, Villamanta, Villamantilla, Villanueva de Perales, Villanueva de la Cañada, Villanueva del Pardillo, Villar del Olmo, Villarejo de Salvanés, Villaviciosa de Odón, Villavieja del Lozoya, Zarzalejo, "
     ]
    }
   ],
   "source": [
    "#Get number of unique populations\n",
    "number_of_populations = ds['level5'].nunique()\n",
    "print(f\"There is a total of {number_of_populations} unique populations in the dataset.\")\n",
    "\n",
    "#Get all unique populations\n",
    "populations = ds['level5'].unique()\n",
    "\n",
    "#Sort populations alphabetically\n",
    "populations.sort()\n",
    "\n",
    "print(\"Which are:\")\n",
    "for population in populations:\n",
    "    print(population, end=\", \")"
   ]
  },
  {
   "attachments": {},
   "cell_type": "markdown",
   "id": "crazy-blame",
   "metadata": {},
   "source": [
    "#### Exercise 05. Does the dataset contain NAs? (★☆☆)\n",
    "\n",
    "Print a boolean value (`true` or `fase`) followed by the rows/cols that contains NAs."
   ]
  },
  {
   "cell_type": "code",
   "execution_count": 7,
   "id": "transparent-poetry",
   "metadata": {},
   "outputs": [
    {
     "data": {
      "text/plain": [
       "id_realEstates      False\n",
       "isNew               False\n",
       "realEstate_name      True\n",
       "phone_realEstate     True\n",
       "url_inmueble        False\n",
       "rooms                True\n",
       "bathrooms            True\n",
       "surface              True\n",
       "price               False\n",
       "date                False\n",
       "description          True\n",
       "address             False\n",
       "country             False\n",
       "level1              False\n",
       "level2              False\n",
       "level3              False\n",
       "level4               True\n",
       "level5              False\n",
       "level6               True\n",
       "level7               True\n",
       "level8               True\n",
       "upperLevel          False\n",
       "countryId           False\n",
       "level1Id            False\n",
       "level2Id            False\n",
       "level3Id            False\n",
       "level4Id            False\n",
       "level5Id            False\n",
       "level6Id            False\n",
       "level7Id            False\n",
       "level8Id            False\n",
       "accuracy            False\n",
       "latitude            False\n",
       "longitude           False\n",
       "zipCode              True\n",
       "customZone           True\n",
       "dtype: bool"
      ]
     },
     "execution_count": 7,
     "metadata": {},
     "output_type": "execute_result"
    }
   ],
   "source": [
    "nas_count = ds.isnull().sum() != 0\n",
    "nas_count"
   ]
  },
  {
   "attachments": {},
   "cell_type": "markdown",
   "id": "italic-hydrogen",
   "metadata": {},
   "source": [
    "#### Exercise 06. Delete the NAs of the dataset, if applicable (★★☆)\n",
    "\n",
    "Print a comparison between the dimensions of the original DataFrame versus the DataFrame after the deletions"
   ]
  },
  {
   "cell_type": "code",
   "execution_count": 8,
   "id": "administrative-roads",
   "metadata": {},
   "outputs": [
    {
     "name": "stdout",
     "output_type": "stream",
     "text": [
      "12 records where removed from the list after the NAs cleanup.\n"
     ]
    }
   ],
   "source": [
    "ds_without_nas = ds.dropna(axis=1)\n",
    "ds_comparison = ds.shape[1] - ds_without_nas.shape[1]\n",
    "print(f\"{ds_comparison} records where removed from the list after the NAs cleanup.\")"
   ]
  },
  {
   "attachments": {},
   "cell_type": "markdown",
   "id": "middle-china",
   "metadata": {},
   "source": [
    "#### Exercise 07. Which is the mean of prices in the population (level5 column) of \"Arroyomolinos (Madrid)\"? (★★☆)\n",
    "\n",
    "Print the obtained value"
   ]
  },
  {
   "cell_type": "code",
   "execution_count": 9,
   "id": "nuclear-belief",
   "metadata": {},
   "outputs": [
    {
     "name": "stdout",
     "output_type": "stream",
     "text": [
      "The mean of prices in Arroyomolinos is 298905.18 Euros\n"
     ]
    }
   ],
   "source": [
    "# Select only the listings under Arroyomolinos (Madrid)\n",
    "arroyomolinos = ds[ds['level5'] == \"Arroyomolinos (Madrid)\"]\n",
    "# Get the price mean and round it up to 2 decimals\n",
    "arroyomolinos_price_mean = arroyomolinos['price'].mean().round(2)\n",
    "print(f\"The mean of prices in Arroyomolinos is {arroyomolinos_price_mean} Euros\")"
   ]
  },
  {
   "attachments": {},
   "cell_type": "markdown",
   "id": "concerned-radical",
   "metadata": {},
   "source": [
    "#### Exercise 08. Plot the histogram of prices for the population (level5 column) of \"Arroyomolinos (Madrid)\" and explain what you observe (★★☆)\n",
    "\n",
    "Print the histogram of the prices and write in the Markdown cell a brief analysis about the plot."
   ]
  },
  {
   "cell_type": "code",
   "execution_count": 10,
   "id": "sudden-message",
   "metadata": {},
   "outputs": [
    {
     "data": {
      "image/png": "[encoded data removed]",
      "text/plain": [
       "<Figure size 1000x500 with 1 Axes>"
      ]
     },
     "metadata": {},
     "output_type": "display_data"
    }
   ],
   "source": [
    "arroyomolinos_prices = arroyomolinos['price']\n",
    "plt.figure(figsize = (10 ,5))\n",
    "plt.hist(arroyomolinos_prices, bins = 50, alpha = 0.7, rwidth=.9)\n",
    "plt.title(\"Prices in the population of Arroyomolinos (Madrid)\")\n",
    "plt.show()"
   ]
  },
  {
   "attachments": {},
   "cell_type": "markdown",
   "id": "impressed-combination",
   "metadata": {},
   "source": [
    "It is possible to see that the majority of listings is beetwen 200K Euros and 400K Euros, with the peak of 16 listings near the 300K mark, which explains why the mean is around that same value.\n",
    "It is also possible to see that the minority of listings is between the 400K and 600K marks, with about 7 listings."
   ]
  },
  {
   "attachments": {},
   "cell_type": "markdown",
   "id": "actual-edinburgh",
   "metadata": {},
   "source": [
    "#### Exercise 09. Are the averages of \"Valdemorillo\" and \"Galapagar\" prices the same? (★★☆)\n",
    "\n",
    "Print the both average prices and then write a conclusion about them"
   ]
  },
  {
   "cell_type": "code",
   "execution_count": 11,
   "id": "numeric-commerce",
   "metadata": {},
   "outputs": [
    {
     "name": "stdout",
     "output_type": "stream",
     "text": [
      "The mean of prices in Valdemorillo is 363860.29 Euros.\n",
      "and in Galapagar is 360063.2 Euros.\n",
      "Both means are 4000 Euros apart which, mathematically are not the same, but from a real state perspective you could consider them equal.\n"
     ]
    }
   ],
   "source": [
    "# Select only the listings under Valdemorillo\n",
    "valdemorillo = ds[ds['level5'] == \"Valdemorillo\"]\n",
    "# Select only the listings under Galapagar\n",
    "galapagar = ds[ds['level5'] == \"Galapagar\"]\n",
    "# Get the price means and round it up to 2 decimals\n",
    "valdemorillo_price_mean = valdemorillo['price'].mean().round(2)\n",
    "galapagar_price_mean = galapagar['price'].mean().round(2)\n",
    "\n",
    "print(f\"The mean of prices in Valdemorillo is {valdemorillo_price_mean} Euros.\")\n",
    "print(f\"and in Galapagar is {galapagar_price_mean} Euros.\")\n",
    "print(\"Both means are 4000 Euros apart which, mathematically are not the same, but from a real state perspective you could consider them equal.\")"
   ]
  },
  {
   "attachments": {},
   "cell_type": "markdown",
   "id": "lonely-article",
   "metadata": {},
   "source": [
    "#### Exercise 10. Are the averages of \"Valdemorillo\" and \"Galapagar\" price per square meter (price/m2) the same? (★★☆)\n",
    "\n",
    "Print the both average prices and then write a conclusion about\n",
    "\n",
    "Hint: Create a new column called `pps` (price per square) and then analyse the values"
   ]
  },
  {
   "cell_type": "code",
   "execution_count": 12,
   "id": "hourly-globe",
   "metadata": {},
   "outputs": [
    {
     "name": "stdout",
     "output_type": "stream",
     "text": [
      "The average price/m2 in Valdemorillo is 1317.95 and in Galapagar is 1606.32.\n",
      "So it is able to conclude that they are not the same because there is a difference of 288.37.\n"
     ]
    }
   ],
   "source": [
    "ds['pps'] = ds['price'] / ds['surface']\n",
    "valdemorillo_pps_mean = ds[ds['level5'] == \"Valdemorillo\"]['pps'].mean().round(2)\n",
    "galapagar_pps_mean = ds[ds['level5'] == \"Galapagar\"]['pps'].mean().round(2)\n",
    "print(f\"The average price/m2 in Valdemorillo is {valdemorillo_pps_mean} and in Galapagar is {galapagar_pps_mean}.\")\n",
    "print(f\"So it is able to conclude that they are not the same because there is a difference of {(galapagar_pps_mean - valdemorillo_pps_mean).round(2)}.\")"
   ]
  },
  {
   "attachments": {},
   "cell_type": "markdown",
   "id": "pleasant-invite",
   "metadata": {},
   "source": [
    "#### Exercise 11. Analyse the relation between the surface and the price of the houses (★★☆)\n",
    "\n",
    "Hint: You can make a `scatter plot` and then write a conclusion about it"
   ]
  },
  {
   "cell_type": "code",
   "execution_count": 28,
   "id": "common-drilling",
   "metadata": {},
   "outputs": [
    {
     "data": {
      "image/png": "[encoded data removed]",
      "text/plain": [
       "<Figure size 640x480 with 1 Axes>"
      ]
     },
     "metadata": {},
     "output_type": "display_data"
    }
   ],
   "source": [
    "plt.scatter(ds['surface'], ds['price'])\n",
    "\n",
    "plt.xlabel('Surface')\n",
    "plt.ylabel('Price')\n",
    "\n",
    "plt.show()"
   ]
  },
  {
   "attachments": {},
   "cell_type": "markdown",
   "id": "ahead-liquid",
   "metadata": {},
   "source": [
    "**TODO: Markdown**. To write here, double click to this cell and just remove this content and place the text you want to write. Then, execute the cell."
   ]
  },
  {
   "attachments": {},
   "cell_type": "markdown",
   "id": "coordinate-sunrise",
   "metadata": {},
   "source": [
    "#### Exercise 12. How many real estate agencies the dataset contains? (★★☆)\n",
    "\n",
    "Print the obtained value"
   ]
  },
  {
   "cell_type": "code",
   "execution_count": null,
   "id": "valid-honolulu",
   "metadata": {},
   "outputs": [
    {
     "name": "stdout",
     "output_type": "stream",
     "text": [
      "There are a total of 1817 agencies in the dataset.\n"
     ]
    }
   ],
   "source": [
    "number_of_agencies = len(ds['realEstate_name'].unique())\n",
    "print(f\"There are a total of {number_of_agencies} agencies in the dataset.\")"
   ]
  },
  {
   "attachments": {},
   "cell_type": "markdown",
   "id": "binding-ebony",
   "metadata": {},
   "source": [
    "#### Exercise 13. Which is the population (level5 column) that contains the most houses? (★★☆)\n",
    "\n",
    "Print both the population and the number of houses"
   ]
  },
  {
   "cell_type": "code",
   "execution_count": 24,
   "id": "static-perry",
   "metadata": {},
   "outputs": [
    {
     "name": "stdout",
     "output_type": "stream",
     "text": [
      "The population that contains the most houses is  Madrid Capital\n",
      "Number of houses: 6632\n"
     ]
    }
   ],
   "source": [
    "mode = ds['level5'].mode().iloc[0]\n",
    "mode_sum = (ds['level5'] == mode).sum()\n",
    "\n",
    "print(f\"The population that contains the most houses is {mode}\")\n",
    "print(f\"Number of houses: {mode_sum}\")"
   ]
  },
  {
   "attachments": {},
   "cell_type": "markdown",
   "id": "entire-classification",
   "metadata": {},
   "source": [
    "#### Exercise 14. Now let's work with the \"south belt\" of madrid. Make a subset of the original DataFrame that contains the following populations (level5 column): \"Fuenlabrada\",\"Leganés\",\"Getafe\",\"Alcorcón\" (★★☆)\n",
    "\n",
    "Hint: Filter the original DataFrame using the column `level5` and the function `isin`"
   ]
  },
  {
   "cell_type": "code",
   "execution_count": 17,
   "id": "binary-input",
   "metadata": {},
   "outputs": [
    {
     "data": {
      "text/html": [
       "<div>\n",
       "<style scoped>\n",
       "    .dataframe tbody tr th:only-of-type {\n",
       "        vertical-align: middle;\n",
       "    }\n",
       "\n",
       "    .dataframe tbody tr th {\n",
       "        vertical-align: top;\n",
       "    }\n",
       "\n",
       "    .dataframe thead th {\n",
       "        text-align: right;\n",
       "    }\n",
       "</style>\n",
       "<table border=\"1\" class=\"dataframe\">\n",
       "  <thead>\n",
       "    <tr style=\"text-align: right;\">\n",
       "      <th></th>\n",
       "      <th>id_realEstates</th>\n",
       "      <th>isNew</th>\n",
       "      <th>realEstate_name</th>\n",
       "      <th>phone_realEstate</th>\n",
       "      <th>url_inmueble</th>\n",
       "      <th>rooms</th>\n",
       "      <th>bathrooms</th>\n",
       "      <th>surface</th>\n",
       "      <th>price</th>\n",
       "      <th>date</th>\n",
       "      <th>...</th>\n",
       "      <th>level5Id</th>\n",
       "      <th>level6Id</th>\n",
       "      <th>level7Id</th>\n",
       "      <th>level8Id</th>\n",
       "      <th>accuracy</th>\n",
       "      <th>latitude</th>\n",
       "      <th>longitude</th>\n",
       "      <th>zipCode</th>\n",
       "      <th>customZone</th>\n",
       "      <th>pps</th>\n",
       "    </tr>\n",
       "  </thead>\n",
       "  <tbody>\n",
       "    <tr>\n",
       "      <th>2</th>\n",
       "      <td>153867863</td>\n",
       "      <td>False</td>\n",
       "      <td>tecnocasa fuenlabrada ferrocarril</td>\n",
       "      <td>916358736.0</td>\n",
       "      <td>https://www.fotocasa.es/es/comprar/vivienda/ma...</td>\n",
       "      <td>3.0</td>\n",
       "      <td>1.0</td>\n",
       "      <td>NaN</td>\n",
       "      <td>89000</td>\n",
       "      <td>2019-12-28T18:27:15.9975027Z</td>\n",
       "      <td>...</td>\n",
       "      <td>0</td>\n",
       "      <td>0</td>\n",
       "      <td>0</td>\n",
       "      <td>0</td>\n",
       "      <td>1</td>\n",
       "      <td>40,28674</td>\n",
       "      <td>-3,79351</td>\n",
       "      <td>NaN</td>\n",
       "      <td>NaN</td>\n",
       "      <td>NaN</td>\n",
       "    </tr>\n",
       "    <tr>\n",
       "      <th>4</th>\n",
       "      <td>152776331</td>\n",
       "      <td>False</td>\n",
       "      <td>tecnocasa fuenlabrada ferrocarril</td>\n",
       "      <td>916358736.0</td>\n",
       "      <td>https://www.fotocasa.es/es/comprar/vivienda/ma...</td>\n",
       "      <td>3.0</td>\n",
       "      <td>1.0</td>\n",
       "      <td>86.0</td>\n",
       "      <td>89000</td>\n",
       "      <td>2019-12-28T18:27:15.9975027Z</td>\n",
       "      <td>...</td>\n",
       "      <td>0</td>\n",
       "      <td>0</td>\n",
       "      <td>0</td>\n",
       "      <td>0</td>\n",
       "      <td>0</td>\n",
       "      <td>40,2853785786438</td>\n",
       "      <td>-3,79508142135624</td>\n",
       "      <td>NaN</td>\n",
       "      <td>NaN</td>\n",
       "      <td>1034.883721</td>\n",
       "    </tr>\n",
       "    <tr>\n",
       "      <th>86</th>\n",
       "      <td>153152077</td>\n",
       "      <td>False</td>\n",
       "      <td>sinergical inmobiliaria</td>\n",
       "      <td>NaN</td>\n",
       "      <td>https://www.fotocasa.es/es/comprar/vivienda/le...</td>\n",
       "      <td>1.0</td>\n",
       "      <td>1.0</td>\n",
       "      <td>50.0</td>\n",
       "      <td>107000</td>\n",
       "      <td>2019-12-28T18:30:53.960102Z</td>\n",
       "      <td>...</td>\n",
       "      <td>0</td>\n",
       "      <td>0</td>\n",
       "      <td>0</td>\n",
       "      <td>0</td>\n",
       "      <td>1</td>\n",
       "      <td>40,35059</td>\n",
       "      <td>-3,82693</td>\n",
       "      <td>NaN</td>\n",
       "      <td>NaN</td>\n",
       "      <td>2140.000000</td>\n",
       "    </tr>\n",
       "    <tr>\n",
       "      <th>95</th>\n",
       "      <td>153995577</td>\n",
       "      <td>False</td>\n",
       "      <td>viviendas365com</td>\n",
       "      <td>911226014.0</td>\n",
       "      <td>https://www.fotocasa.es/es/comprar/vivienda/le...</td>\n",
       "      <td>3.0</td>\n",
       "      <td>2.0</td>\n",
       "      <td>120.0</td>\n",
       "      <td>320000</td>\n",
       "      <td>2019-12-28T18:30:53.960102Z</td>\n",
       "      <td>...</td>\n",
       "      <td>0</td>\n",
       "      <td>0</td>\n",
       "      <td>0</td>\n",
       "      <td>0</td>\n",
       "      <td>0</td>\n",
       "      <td>40,31933</td>\n",
       "      <td>-3,77574</td>\n",
       "      <td>NaN</td>\n",
       "      <td>NaN</td>\n",
       "      <td>2666.666667</td>\n",
       "    </tr>\n",
       "    <tr>\n",
       "      <th>110</th>\n",
       "      <td>153586414</td>\n",
       "      <td>False</td>\n",
       "      <td>area uno asesores inmobiliarios</td>\n",
       "      <td>912664081.0</td>\n",
       "      <td>https://www.fotocasa.es/es/comprar/vivienda/ma...</td>\n",
       "      <td>3.0</td>\n",
       "      <td>3.0</td>\n",
       "      <td>142.0</td>\n",
       "      <td>425000</td>\n",
       "      <td>2019-12-28T18:32:32.5337942Z</td>\n",
       "      <td>...</td>\n",
       "      <td>0</td>\n",
       "      <td>0</td>\n",
       "      <td>0</td>\n",
       "      <td>0</td>\n",
       "      <td>0</td>\n",
       "      <td>40,3313411</td>\n",
       "      <td>-3,8313868</td>\n",
       "      <td>NaN</td>\n",
       "      <td>NaN</td>\n",
       "      <td>2992.957746</td>\n",
       "    </tr>\n",
       "    <tr>\n",
       "      <th>...</th>\n",
       "      <td>...</td>\n",
       "      <td>...</td>\n",
       "      <td>...</td>\n",
       "      <td>...</td>\n",
       "      <td>...</td>\n",
       "      <td>...</td>\n",
       "      <td>...</td>\n",
       "      <td>...</td>\n",
       "      <td>...</td>\n",
       "      <td>...</td>\n",
       "      <td>...</td>\n",
       "      <td>...</td>\n",
       "      <td>...</td>\n",
       "      <td>...</td>\n",
       "      <td>...</td>\n",
       "      <td>...</td>\n",
       "      <td>...</td>\n",
       "      <td>...</td>\n",
       "      <td>...</td>\n",
       "      <td>...</td>\n",
       "      <td>...</td>\n",
       "    </tr>\n",
       "    <tr>\n",
       "      <th>15276</th>\n",
       "      <td>153903887</td>\n",
       "      <td>False</td>\n",
       "      <td>aliseda servicios de gestion inmobiliaria</td>\n",
       "      <td>911368198.0</td>\n",
       "      <td>https://www.fotocasa.es/es/comprar/vivienda/al...</td>\n",
       "      <td>3.0</td>\n",
       "      <td>1.0</td>\n",
       "      <td>78.0</td>\n",
       "      <td>138000</td>\n",
       "      <td>2019-12-17T19:02:00Z</td>\n",
       "      <td>...</td>\n",
       "      <td>0</td>\n",
       "      <td>0</td>\n",
       "      <td>0</td>\n",
       "      <td>0</td>\n",
       "      <td>1</td>\n",
       "      <td>40,31381</td>\n",
       "      <td>-3,83733</td>\n",
       "      <td>NaN</td>\n",
       "      <td>NaN</td>\n",
       "      <td>1769.230769</td>\n",
       "    </tr>\n",
       "    <tr>\n",
       "      <th>15292</th>\n",
       "      <td>151697757</td>\n",
       "      <td>False</td>\n",
       "      <td>unipiso</td>\n",
       "      <td>912788631.0</td>\n",
       "      <td>https://www.fotocasa.es/es/comprar/vivienda/al...</td>\n",
       "      <td>3.0</td>\n",
       "      <td>2.0</td>\n",
       "      <td>110.0</td>\n",
       "      <td>279000</td>\n",
       "      <td>2019-12-17T18:57:00Z</td>\n",
       "      <td>...</td>\n",
       "      <td>0</td>\n",
       "      <td>0</td>\n",
       "      <td>0</td>\n",
       "      <td>0</td>\n",
       "      <td>0</td>\n",
       "      <td>40,3259051</td>\n",
       "      <td>-3,76318</td>\n",
       "      <td>NaN</td>\n",
       "      <td>NaN</td>\n",
       "      <td>2536.363636</td>\n",
       "    </tr>\n",
       "    <tr>\n",
       "      <th>15306</th>\n",
       "      <td>153902389</td>\n",
       "      <td>False</td>\n",
       "      <td>jadein ferrero</td>\n",
       "      <td>914871639.0</td>\n",
       "      <td>https://www.fotocasa.es/es/comprar/vivienda/ma...</td>\n",
       "      <td>3.0</td>\n",
       "      <td>2.0</td>\n",
       "      <td>85.0</td>\n",
       "      <td>170000</td>\n",
       "      <td>2019-12-17T18:43:00Z</td>\n",
       "      <td>...</td>\n",
       "      <td>0</td>\n",
       "      <td>0</td>\n",
       "      <td>0</td>\n",
       "      <td>0</td>\n",
       "      <td>0</td>\n",
       "      <td>40,2882193</td>\n",
       "      <td>-3,8098617</td>\n",
       "      <td>NaN</td>\n",
       "      <td>NaN</td>\n",
       "      <td>2000.000000</td>\n",
       "    </tr>\n",
       "    <tr>\n",
       "      <th>15323</th>\n",
       "      <td>153871864</td>\n",
       "      <td>False</td>\n",
       "      <td>gestion comercial</td>\n",
       "      <td>911220662.0</td>\n",
       "      <td>https://www.fotocasa.es/es/comprar/vivienda/ma...</td>\n",
       "      <td>3.0</td>\n",
       "      <td>1.0</td>\n",
       "      <td>91.0</td>\n",
       "      <td>112000</td>\n",
       "      <td>2019-12-17T18:25:00Z</td>\n",
       "      <td>...</td>\n",
       "      <td>0</td>\n",
       "      <td>0</td>\n",
       "      <td>0</td>\n",
       "      <td>0</td>\n",
       "      <td>0</td>\n",
       "      <td>40,28282</td>\n",
       "      <td>-3,78892</td>\n",
       "      <td>NaN</td>\n",
       "      <td>NaN</td>\n",
       "      <td>1230.769231</td>\n",
       "    </tr>\n",
       "    <tr>\n",
       "      <th>15326</th>\n",
       "      <td>153901467</td>\n",
       "      <td>False</td>\n",
       "      <td>montehogar 68</td>\n",
       "      <td>911790675.0</td>\n",
       "      <td>https://www.fotocasa.es/es/comprar/vivienda/ma...</td>\n",
       "      <td>2.0</td>\n",
       "      <td>2.0</td>\n",
       "      <td>99.0</td>\n",
       "      <td>215000</td>\n",
       "      <td>2019-12-17T18:24:00Z</td>\n",
       "      <td>...</td>\n",
       "      <td>0</td>\n",
       "      <td>0</td>\n",
       "      <td>0</td>\n",
       "      <td>0</td>\n",
       "      <td>1</td>\n",
       "      <td>40,28062</td>\n",
       "      <td>-3,79869</td>\n",
       "      <td>NaN</td>\n",
       "      <td>NaN</td>\n",
       "      <td>2171.717172</td>\n",
       "    </tr>\n",
       "  </tbody>\n",
       "</table>\n",
       "<p>895 rows × 37 columns</p>\n",
       "</div>"
      ],
      "text/plain": [
       "       id_realEstates  isNew                            realEstate_name  \\\n",
       "2           153867863  False          tecnocasa fuenlabrada ferrocarril   \n",
       "4           152776331  False          tecnocasa fuenlabrada ferrocarril   \n",
       "86          153152077  False                    sinergical inmobiliaria   \n",
       "95          153995577  False                            viviendas365com   \n",
       "110         153586414  False            area uno asesores inmobiliarios   \n",
       "...               ...    ...                                        ...   \n",
       "15276       153903887  False  aliseda servicios de gestion inmobiliaria   \n",
       "15292       151697757  False                                    unipiso   \n",
       "15306       153902389  False                             jadein ferrero   \n",
       "15323       153871864  False                          gestion comercial   \n",
       "15326       153901467  False                              montehogar 68   \n",
       "\n",
       "       phone_realEstate                                       url_inmueble  \\\n",
       "2           916358736.0  https://www.fotocasa.es/es/comprar/vivienda/ma...   \n",
       "4           916358736.0  https://www.fotocasa.es/es/comprar/vivienda/ma...   \n",
       "86                  NaN  https://www.fotocasa.es/es/comprar/vivienda/le...   \n",
       "95          911226014.0  https://www.fotocasa.es/es/comprar/vivienda/le...   \n",
       "110         912664081.0  https://www.fotocasa.es/es/comprar/vivienda/ma...   \n",
       "...                 ...                                                ...   \n",
       "15276       911368198.0  https://www.fotocasa.es/es/comprar/vivienda/al...   \n",
       "15292       912788631.0  https://www.fotocasa.es/es/comprar/vivienda/al...   \n",
       "15306       914871639.0  https://www.fotocasa.es/es/comprar/vivienda/ma...   \n",
       "15323       911220662.0  https://www.fotocasa.es/es/comprar/vivienda/ma...   \n",
       "15326       911790675.0  https://www.fotocasa.es/es/comprar/vivienda/ma...   \n",
       "\n",
       "       rooms  bathrooms  surface   price                          date  ...  \\\n",
       "2        3.0        1.0      NaN   89000  2019-12-28T18:27:15.9975027Z  ...   \n",
       "4        3.0        1.0     86.0   89000  2019-12-28T18:27:15.9975027Z  ...   \n",
       "86       1.0        1.0     50.0  107000   2019-12-28T18:30:53.960102Z  ...   \n",
       "95       3.0        2.0    120.0  320000   2019-12-28T18:30:53.960102Z  ...   \n",
       "110      3.0        3.0    142.0  425000  2019-12-28T18:32:32.5337942Z  ...   \n",
       "...      ...        ...      ...     ...                           ...  ...   \n",
       "15276    3.0        1.0     78.0  138000          2019-12-17T19:02:00Z  ...   \n",
       "15292    3.0        2.0    110.0  279000          2019-12-17T18:57:00Z  ...   \n",
       "15306    3.0        2.0     85.0  170000          2019-12-17T18:43:00Z  ...   \n",
       "15323    3.0        1.0     91.0  112000          2019-12-17T18:25:00Z  ...   \n",
       "15326    2.0        2.0     99.0  215000          2019-12-17T18:24:00Z  ...   \n",
       "\n",
       "      level5Id level6Id level7Id level8Id accuracy          latitude  \\\n",
       "2            0        0        0        0        1          40,28674   \n",
       "4            0        0        0        0        0  40,2853785786438   \n",
       "86           0        0        0        0        1          40,35059   \n",
       "95           0        0        0        0        0          40,31933   \n",
       "110          0        0        0        0        0        40,3313411   \n",
       "...        ...      ...      ...      ...      ...               ...   \n",
       "15276        0        0        0        0        1          40,31381   \n",
       "15292        0        0        0        0        0        40,3259051   \n",
       "15306        0        0        0        0        0        40,2882193   \n",
       "15323        0        0        0        0        0          40,28282   \n",
       "15326        0        0        0        0        1          40,28062   \n",
       "\n",
       "               longitude zipCode customZone          pps  \n",
       "2               -3,79351     NaN        NaN          NaN  \n",
       "4      -3,79508142135624     NaN        NaN  1034.883721  \n",
       "86              -3,82693     NaN        NaN  2140.000000  \n",
       "95              -3,77574     NaN        NaN  2666.666667  \n",
       "110           -3,8313868     NaN        NaN  2992.957746  \n",
       "...                  ...     ...        ...          ...  \n",
       "15276           -3,83733     NaN        NaN  1769.230769  \n",
       "15292           -3,76318     NaN        NaN  2536.363636  \n",
       "15306         -3,8098617     NaN        NaN  2000.000000  \n",
       "15323           -3,78892     NaN        NaN  1230.769231  \n",
       "15326           -3,79869     NaN        NaN  2171.717172  \n",
       "\n",
       "[895 rows x 37 columns]"
      ]
     },
     "execution_count": 17,
     "metadata": {},
     "output_type": "execute_result"
    }
   ],
   "source": [
    "subset = ds[ds['level5'].isin([\"Fuenlabrada\",\"Leganés\",\"Getafe\",\"Alcorcón\"])]\n",
    "subset"
   ]
  },
  {
   "attachments": {},
   "cell_type": "markdown",
   "id": "severe-fisher",
   "metadata": {},
   "source": [
    "#### Exercise 15. Make a bar plot of the median of the prices and explain what you observe (you must use the subset obtained in the question 14) (★★★)\n",
    "\n",
    "Print the bar of the median of the prices and write in the Markdown cell a brief analysis about the plot"
   ]
  },
  {
   "cell_type": "code",
   "execution_count": 22,
   "id": "lyric-bunch",
   "metadata": {},
   "outputs": [
    {
     "data": {
      "image/png": "[encoded data removed]",
      "text/plain": [
       "<Figure size 640x480 with 1 Axes>"
      ]
     },
     "metadata": {},
     "output_type": "display_data"
    }
   ],
   "source": [
    "prices_median = subset.groupby('level5')['price'].median().reset_index()\n",
    "\n",
    "plt.bar(prices_median['level5'], prices_median['price'])\n",
    "plt.xlabel('Populations')\n",
    "plt.ylabel('Median price')\n",
    "\n",
    "plt.show()"
   ]
  },
  {
   "attachments": {},
   "cell_type": "markdown",
   "id": "sublime-newspaper",
   "metadata": {},
   "source": [
    "**TODO: Markdown**. To write here, double click to this cell and just remove this content and place the text you want to write. Then, execute the cell."
   ]
  },
  {
   "attachments": {},
   "cell_type": "markdown",
   "id": "speaking-diamond",
   "metadata": {},
   "source": [
    "#### Exercise 16. Calculate the sample mean and variance of the variables: price, rooms, surface area and bathrooms (you must use the subset obtained in the question 14) (★★★)\n",
    "\n",
    "Print both values for each variable"
   ]
  },
  {
   "cell_type": "code",
   "execution_count": 30,
   "id": "random-feeling",
   "metadata": {},
   "outputs": [
    {
     "name": "stdout",
     "output_type": "stream",
     "text": [
      "Median price: 175000.0\n",
      "Prices variance: 14444627877.728062\n",
      "Median rooms: 3.0\n",
      "Rooms variance: 0.7204774964927139\n",
      "Median surface: 88.0\n",
      "Surface variance: 4275.920086688338\n",
      "Median bathrooms: 1.0\n",
      "Bathrooms variance: 0.5757343354551729\n"
     ]
    }
   ],
   "source": [
    "subset_prices_median = subset['price'].median()\n",
    "subset_prices_variance = subset['price'].var()\n",
    "\n",
    "subset_rooms_median = subset['rooms'].median()\n",
    "subset_rooms_variance = subset['rooms'].var()\n",
    "\n",
    "subset_surface_median = subset['surface'].median()\n",
    "subset_surface_variance = subset['surface'].var()\n",
    "\n",
    "subset_bathroom_median = subset['bathrooms'].median()\n",
    "subset_bathroom_variance = subset['bathrooms'].var()\n",
    "\n",
    "print(\"Median price:\", subset_prices_median)\n",
    "print(\"Prices variance:\", subset_prices_variance)\n",
    "print(\"Median rooms:\", subset_rooms_median)\n",
    "print(\"Rooms variance:\", subset_rooms_variance)\n",
    "print(\"Median surface:\", subset_surface_median)\n",
    "print(\"Surface variance:\", subset_surface_variance)\n",
    "print(\"Median bathrooms:\", subset_bathroom_median)\n",
    "print(\"Bathrooms variance:\", subset_bathroom_variance)"
   ]
  },
  {
   "attachments": {},
   "cell_type": "markdown",
   "id": "revolutionary-matrix",
   "metadata": {},
   "source": [
    "#### Exercise 17. What is the most expensive house of each population? You must use the subset obtained in the question 14 (★★☆)\n",
    "\n",
    "Print both the address and the price of the selected house of each population. You can print a DataFrame or a single line for each population"
   ]
  },
  {
   "cell_type": "code",
   "execution_count": 42,
   "id": "fifteen-browse",
   "metadata": {},
   "outputs": [
    {
     "name": "stdout",
     "output_type": "stream",
     "text": [
      "               price                                            address\n",
      "level5                                                                 \n",
      "Alcorcón      950000                      Travesia Nuncio del, Alcorcón\n",
      "Fuenlabrada   490000  Urbanización Urbanización Parque Miraflores, 5...\n",
      "Getafe       1050000                           San Sebastián, 1, Getafe\n",
      "Leganés       650000     Plaza Pza España, Gran Oportunidad!!!, Leganés\n"
     ]
    }
   ],
   "source": [
    "df_17 = pd.DataFrame(subset, columns=['level5', 'price','address']) \n",
    "max_sector = df_17.groupby(['level5']).max()\n",
    "print(max_sector)"
   ]
  },
  {
   "attachments": {},
   "cell_type": "markdown",
   "id": "activated-knight",
   "metadata": {},
   "source": [
    "#### Exercise 18. Normalize the variable of prices for each population and plot the 4 histograms in the same plot (you must use the subset obtained in the question 14) (★★★)\n",
    "\n",
    "For the normalization method you can use the one you consider to, there is not a single correct answer to this question. Print the plot and write in the Markdown cell a brief analysis about the plot\n",
    "\n",
    "Hint: You can help yourself reviewing the multihist demo of Matplotlib"
   ]
  },
  {
   "cell_type": "code",
   "execution_count": null,
   "id": "civic-meditation",
   "metadata": {},
   "outputs": [],
   "source": []
  },
  {
   "attachments": {},
   "cell_type": "markdown",
   "id": "precise-heavy",
   "metadata": {},
   "source": [
    "**TODO: Markdown**. To write here, double click to this cell and just remove this content and place the text you want to write. Then, execute the cell."
   ]
  },
  {
   "attachments": {},
   "cell_type": "markdown",
   "id": "patent-jonathan",
   "metadata": {},
   "source": [
    "#### Exercise 19. What can you say about the price per square meter (price/m2) between the towns of \"Getafe\" and \"Alcorcón\"? You must use the subset obtained in the question 14 (★★☆)\n",
    "\n",
    "Hint: Create a new column called `pps` (price per square) and then analyse the values"
   ]
  },
  {
   "cell_type": "code",
   "execution_count": 48,
   "id": "initial-liverpool",
   "metadata": {},
   "outputs": [
    {
     "data": {
      "text/html": [
       "<div>\n",
       "<style scoped>\n",
       "    .dataframe tbody tr th:only-of-type {\n",
       "        vertical-align: middle;\n",
       "    }\n",
       "\n",
       "    .dataframe tbody tr th {\n",
       "        vertical-align: top;\n",
       "    }\n",
       "\n",
       "    .dataframe thead th {\n",
       "        text-align: right;\n",
       "    }\n",
       "</style>\n",
       "<table border=\"1\" class=\"dataframe\">\n",
       "  <thead>\n",
       "    <tr style=\"text-align: right;\">\n",
       "      <th></th>\n",
       "      <th>id_realEstates</th>\n",
       "      <th>phone_realEstate</th>\n",
       "      <th>rooms</th>\n",
       "      <th>bathrooms</th>\n",
       "      <th>surface</th>\n",
       "      <th>price</th>\n",
       "      <th>countryId</th>\n",
       "      <th>level1Id</th>\n",
       "      <th>level2Id</th>\n",
       "      <th>level3Id</th>\n",
       "      <th>level4Id</th>\n",
       "      <th>level5Id</th>\n",
       "      <th>level6Id</th>\n",
       "      <th>level7Id</th>\n",
       "      <th>level8Id</th>\n",
       "      <th>accuracy</th>\n",
       "      <th>zipCode</th>\n",
       "      <th>customZone</th>\n",
       "      <th>pps</th>\n",
       "    </tr>\n",
       "  </thead>\n",
       "  <tbody>\n",
       "    <tr>\n",
       "      <th>count</th>\n",
       "      <td>8.950000e+02</td>\n",
       "      <td>8.430000e+02</td>\n",
       "      <td>890.000000</td>\n",
       "      <td>885.000000</td>\n",
       "      <td>775.000000</td>\n",
       "      <td>8.950000e+02</td>\n",
       "      <td>895.0</td>\n",
       "      <td>895.0</td>\n",
       "      <td>895.0</td>\n",
       "      <td>895.0</td>\n",
       "      <td>895.0</td>\n",
       "      <td>895.0</td>\n",
       "      <td>895.0</td>\n",
       "      <td>895.0</td>\n",
       "      <td>895.0</td>\n",
       "      <td>895.000000</td>\n",
       "      <td>0.0</td>\n",
       "      <td>0.0</td>\n",
       "      <td>775.000000</td>\n",
       "    </tr>\n",
       "    <tr>\n",
       "      <th>mean</th>\n",
       "      <td>1.528610e+08</td>\n",
       "      <td>9.137704e+08</td>\n",
       "      <td>3.023596</td>\n",
       "      <td>1.627119</td>\n",
       "      <td>111.298065</td>\n",
       "      <td>2.260857e+05</td>\n",
       "      <td>0.0</td>\n",
       "      <td>0.0</td>\n",
       "      <td>0.0</td>\n",
       "      <td>0.0</td>\n",
       "      <td>0.0</td>\n",
       "      <td>0.0</td>\n",
       "      <td>0.0</td>\n",
       "      <td>0.0</td>\n",
       "      <td>0.0</td>\n",
       "      <td>0.204469</td>\n",
       "      <td>NaN</td>\n",
       "      <td>NaN</td>\n",
       "      <td>2064.125759</td>\n",
       "    </tr>\n",
       "    <tr>\n",
       "      <th>std</th>\n",
       "      <td>1.984034e+06</td>\n",
       "      <td>6.235118e+06</td>\n",
       "      <td>0.848809</td>\n",
       "      <td>0.758772</td>\n",
       "      <td>65.390520</td>\n",
       "      <td>1.201858e+05</td>\n",
       "      <td>0.0</td>\n",
       "      <td>0.0</td>\n",
       "      <td>0.0</td>\n",
       "      <td>0.0</td>\n",
       "      <td>0.0</td>\n",
       "      <td>0.0</td>\n",
       "      <td>0.0</td>\n",
       "      <td>0.0</td>\n",
       "      <td>0.0</td>\n",
       "      <td>0.403539</td>\n",
       "      <td>NaN</td>\n",
       "      <td>NaN</td>\n",
       "      <td>535.581058</td>\n",
       "    </tr>\n",
       "    <tr>\n",
       "      <th>min</th>\n",
       "      <td>1.399914e+08</td>\n",
       "      <td>9.103016e+08</td>\n",
       "      <td>1.000000</td>\n",
       "      <td>1.000000</td>\n",
       "      <td>38.000000</td>\n",
       "      <td>6.000000e+04</td>\n",
       "      <td>0.0</td>\n",
       "      <td>0.0</td>\n",
       "      <td>0.0</td>\n",
       "      <td>0.0</td>\n",
       "      <td>0.0</td>\n",
       "      <td>0.0</td>\n",
       "      <td>0.0</td>\n",
       "      <td>0.0</td>\n",
       "      <td>0.0</td>\n",
       "      <td>0.000000</td>\n",
       "      <td>NaN</td>\n",
       "      <td>NaN</td>\n",
       "      <td>604.761905</td>\n",
       "    </tr>\n",
       "    <tr>\n",
       "      <th>25%</th>\n",
       "      <td>1.527598e+08</td>\n",
       "      <td>9.113610e+08</td>\n",
       "      <td>3.000000</td>\n",
       "      <td>1.000000</td>\n",
       "      <td>72.000000</td>\n",
       "      <td>1.350000e+05</td>\n",
       "      <td>0.0</td>\n",
       "      <td>0.0</td>\n",
       "      <td>0.0</td>\n",
       "      <td>0.0</td>\n",
       "      <td>0.0</td>\n",
       "      <td>0.0</td>\n",
       "      <td>0.0</td>\n",
       "      <td>0.0</td>\n",
       "      <td>0.0</td>\n",
       "      <td>0.000000</td>\n",
       "      <td>NaN</td>\n",
       "      <td>NaN</td>\n",
       "      <td>1671.641791</td>\n",
       "    </tr>\n",
       "    <tr>\n",
       "      <th>50%</th>\n",
       "      <td>1.534723e+08</td>\n",
       "      <td>9.121787e+08</td>\n",
       "      <td>3.000000</td>\n",
       "      <td>1.000000</td>\n",
       "      <td>88.000000</td>\n",
       "      <td>1.750000e+05</td>\n",
       "      <td>0.0</td>\n",
       "      <td>0.0</td>\n",
       "      <td>0.0</td>\n",
       "      <td>0.0</td>\n",
       "      <td>0.0</td>\n",
       "      <td>0.0</td>\n",
       "      <td>0.0</td>\n",
       "      <td>0.0</td>\n",
       "      <td>0.0</td>\n",
       "      <td>0.000000</td>\n",
       "      <td>NaN</td>\n",
       "      <td>NaN</td>\n",
       "      <td>1950.000000</td>\n",
       "    </tr>\n",
       "    <tr>\n",
       "      <th>75%</th>\n",
       "      <td>1.538764e+08</td>\n",
       "      <td>9.148790e+08</td>\n",
       "      <td>3.000000</td>\n",
       "      <td>2.000000</td>\n",
       "      <td>127.000000</td>\n",
       "      <td>3.100000e+05</td>\n",
       "      <td>0.0</td>\n",
       "      <td>0.0</td>\n",
       "      <td>0.0</td>\n",
       "      <td>0.0</td>\n",
       "      <td>0.0</td>\n",
       "      <td>0.0</td>\n",
       "      <td>0.0</td>\n",
       "      <td>0.0</td>\n",
       "      <td>0.0</td>\n",
       "      <td>0.000000</td>\n",
       "      <td>NaN</td>\n",
       "      <td>NaN</td>\n",
       "      <td>2360.389610</td>\n",
       "    </tr>\n",
       "    <tr>\n",
       "      <th>max</th>\n",
       "      <td>1.540033e+08</td>\n",
       "      <td>9.887761e+08</td>\n",
       "      <td>7.000000</td>\n",
       "      <td>6.000000</td>\n",
       "      <td>722.000000</td>\n",
       "      <td>1.050000e+06</td>\n",
       "      <td>0.0</td>\n",
       "      <td>0.0</td>\n",
       "      <td>0.0</td>\n",
       "      <td>0.0</td>\n",
       "      <td>0.0</td>\n",
       "      <td>0.0</td>\n",
       "      <td>0.0</td>\n",
       "      <td>0.0</td>\n",
       "      <td>0.0</td>\n",
       "      <td>1.000000</td>\n",
       "      <td>NaN</td>\n",
       "      <td>NaN</td>\n",
       "      <td>3917.525773</td>\n",
       "    </tr>\n",
       "  </tbody>\n",
       "</table>\n",
       "</div>"
      ],
      "text/plain": [
       "       id_realEstates  phone_realEstate       rooms   bathrooms     surface  \\\n",
       "count    8.950000e+02      8.430000e+02  890.000000  885.000000  775.000000   \n",
       "mean     1.528610e+08      9.137704e+08    3.023596    1.627119  111.298065   \n",
       "std      1.984034e+06      6.235118e+06    0.848809    0.758772   65.390520   \n",
       "min      1.399914e+08      9.103016e+08    1.000000    1.000000   38.000000   \n",
       "25%      1.527598e+08      9.113610e+08    3.000000    1.000000   72.000000   \n",
       "50%      1.534723e+08      9.121787e+08    3.000000    1.000000   88.000000   \n",
       "75%      1.538764e+08      9.148790e+08    3.000000    2.000000  127.000000   \n",
       "max      1.540033e+08      9.887761e+08    7.000000    6.000000  722.000000   \n",
       "\n",
       "              price  countryId  level1Id  level2Id  level3Id  level4Id  \\\n",
       "count  8.950000e+02      895.0     895.0     895.0     895.0     895.0   \n",
       "mean   2.260857e+05        0.0       0.0       0.0       0.0       0.0   \n",
       "std    1.201858e+05        0.0       0.0       0.0       0.0       0.0   \n",
       "min    6.000000e+04        0.0       0.0       0.0       0.0       0.0   \n",
       "25%    1.350000e+05        0.0       0.0       0.0       0.0       0.0   \n",
       "50%    1.750000e+05        0.0       0.0       0.0       0.0       0.0   \n",
       "75%    3.100000e+05        0.0       0.0       0.0       0.0       0.0   \n",
       "max    1.050000e+06        0.0       0.0       0.0       0.0       0.0   \n",
       "\n",
       "       level5Id  level6Id  level7Id  level8Id    accuracy  zipCode  \\\n",
       "count     895.0     895.0     895.0     895.0  895.000000      0.0   \n",
       "mean        0.0       0.0       0.0       0.0    0.204469      NaN   \n",
       "std         0.0       0.0       0.0       0.0    0.403539      NaN   \n",
       "min         0.0       0.0       0.0       0.0    0.000000      NaN   \n",
       "25%         0.0       0.0       0.0       0.0    0.000000      NaN   \n",
       "50%         0.0       0.0       0.0       0.0    0.000000      NaN   \n",
       "75%         0.0       0.0       0.0       0.0    0.000000      NaN   \n",
       "max         0.0       0.0       0.0       0.0    1.000000      NaN   \n",
       "\n",
       "       customZone          pps  \n",
       "count         0.0   775.000000  \n",
       "mean          NaN  2064.125759  \n",
       "std           NaN   535.581058  \n",
       "min           NaN   604.761905  \n",
       "25%           NaN  1671.641791  \n",
       "50%           NaN  1950.000000  \n",
       "75%           NaN  2360.389610  \n",
       "max           NaN  3917.525773  "
      ]
     },
     "execution_count": 48,
     "metadata": {},
     "output_type": "execute_result"
    }
   ],
   "source": [
    "if 'price' in subset.columns and 'area' in subset.columns:\n",
    "    subset['pps'] = subset['price'] / subset['area']\n",
    "\n",
    "subset.describe()"
   ]
  },
  {
   "attachments": {},
   "cell_type": "markdown",
   "id": "enhanced-moscow",
   "metadata": {},
   "source": [
    "#### Exercise 20. Make the same plot for 4 different populations (level5 column) and rearrange them on the same graph? You must use the subset obtained in the question 14 (★★☆) \n",
    "Hint: make a scatter plot of each population using subplots."
   ]
  },
  {
   "cell_type": "code",
   "execution_count": 52,
   "id": "accepting-airfare",
   "metadata": {},
   "outputs": [
    {
     "data": {
      "image/png": "[encoded data removed]",
      "text/plain": [
       "<Figure size 1000x600 with 1 Axes>"
      ]
     },
     "metadata": {},
     "output_type": "display_data"
    }
   ],
   "source": [
    "plt.figure(figsize=(10, 6))\n",
    "subset['pps'].hist(bins=50)\n",
    "plt.xlabel('pps')\n",
    "plt.ylabel('Frequency')\n",
    "\n",
    "plt.show()"
   ]
  },
  {
   "attachments": {},
   "cell_type": "markdown",
   "id": "blocked-effects",
   "metadata": {},
   "source": [
    "#### Exercise 21. Make a plot of the coordinates (latitude and longitude columns) of the south belt of Madrid by color of each population (you must use the subset obtained in the question 14) (★★★★)\n",
    "\n",
    "Execute the following cell and then start coding in the next one. You must implement a simple code that transform the coordinates columns in a Python dictionary (add more information if needed) and then add it to the map"
   ]
  },
  {
   "cell_type": "code",
   "execution_count": 62,
   "id": "headed-privacy",
   "metadata": {},
   "outputs": [
    {
     "ename": "AttributeError",
     "evalue": "Stamen",
     "output_type": "error",
     "traceback": [
      "\u001b[1;31m---------------------------------------------------------------------------\u001b[0m",
      "\u001b[1;31mKeyError\u001b[0m                                  Traceback (most recent call last)",
      "File \u001b[1;32mc:\\Python312\\Lib\\site-packages\\xyzservices\\lib.py:44\u001b[0m, in \u001b[0;36mBunch.__getattr__\u001b[1;34m(self, key)\u001b[0m\n\u001b[0;32m     43\u001b[0m \u001b[38;5;28;01mtry\u001b[39;00m:\n\u001b[1;32m---> 44\u001b[0m     \u001b[38;5;28;01mreturn\u001b[39;00m \u001b[38;5;28;43mself\u001b[39;49m\u001b[38;5;241;43m.\u001b[39;49m\u001b[38;5;21;43m__getitem__\u001b[39;49m\u001b[43m(\u001b[49m\u001b[43mkey\u001b[49m\u001b[43m)\u001b[49m\n\u001b[0;32m     45\u001b[0m \u001b[38;5;28;01mexcept\u001b[39;00m \u001b[38;5;167;01mKeyError\u001b[39;00m \u001b[38;5;28;01mas\u001b[39;00m err:\n",
      "\u001b[1;31mKeyError\u001b[0m: 'Stamen'",
      "\nThe above exception was the direct cause of the following exception:\n",
      "\u001b[1;31mAttributeError\u001b[0m                            Traceback (most recent call last)",
      "Cell \u001b[1;32mIn[62], line 6\u001b[0m\n\u001b[0;32m      1\u001b[0m \u001b[38;5;28;01mfrom\u001b[39;00m \u001b[38;5;21;01mipyleaflet\u001b[39;00m \u001b[38;5;28;01mimport\u001b[39;00m Map, basemaps\n\u001b[0;32m      3\u001b[0m \u001b[38;5;66;03m# Map centred on (60 degrees latitude et -2.2 degrees longitude)\u001b[39;00m\n\u001b[0;32m      4\u001b[0m \u001b[38;5;66;03m# Latitude, longitude\u001b[39;00m\n\u001b[0;32m      5\u001b[0m \u001b[38;5;28mmap\u001b[39m \u001b[38;5;241m=\u001b[39m Map(center \u001b[38;5;241m=\u001b[39m (\u001b[38;5;241m60\u001b[39m, \u001b[38;5;241m-\u001b[39m\u001b[38;5;241m2.2\u001b[39m), zoom \u001b[38;5;241m=\u001b[39m \u001b[38;5;241m2\u001b[39m, min_zoom \u001b[38;5;241m=\u001b[39m \u001b[38;5;241m1\u001b[39m, max_zoom \u001b[38;5;241m=\u001b[39m \u001b[38;5;241m20\u001b[39m, \n\u001b[1;32m----> 6\u001b[0m     basemap\u001b[38;5;241m=\u001b[39m\u001b[43mbasemaps\u001b[49m\u001b[38;5;241;43m.\u001b[39;49m\u001b[43mStamen\u001b[49m\u001b[38;5;241m.\u001b[39mTerrain)\n\u001b[0;32m      7\u001b[0m \u001b[38;5;28mmap\u001b[39m\n",
      "File \u001b[1;32mc:\\Python312\\Lib\\site-packages\\xyzservices\\lib.py:46\u001b[0m, in \u001b[0;36mBunch.__getattr__\u001b[1;34m(self, key)\u001b[0m\n\u001b[0;32m     44\u001b[0m     \u001b[38;5;28;01mreturn\u001b[39;00m \u001b[38;5;28mself\u001b[39m\u001b[38;5;241m.\u001b[39m\u001b[38;5;21m__getitem__\u001b[39m(key)\n\u001b[0;32m     45\u001b[0m \u001b[38;5;28;01mexcept\u001b[39;00m \u001b[38;5;167;01mKeyError\u001b[39;00m \u001b[38;5;28;01mas\u001b[39;00m err:\n\u001b[1;32m---> 46\u001b[0m     \u001b[38;5;28;01mraise\u001b[39;00m \u001b[38;5;167;01mAttributeError\u001b[39;00m(key) \u001b[38;5;28;01mfrom\u001b[39;00m \u001b[38;5;21;01merr\u001b[39;00m\n",
      "\u001b[1;31mAttributeError\u001b[0m: Stamen"
     ]
    }
   ],
   "source": [
    "from ipyleaflet import Map, basemaps\n",
    "\n",
    "# Map centred on (60 degrees latitude et -2.2 degrees longitude)\n",
    "# Latitude, longitude\n",
    "map = Map(center = (60, -2.2), zoom = 2, min_zoom = 1, max_zoom = 20, \n",
    "    basemap=basemaps.Stamen.Terrain)\n",
    "map"
   ]
  },
  {
   "cell_type": "code",
   "execution_count": null,
   "id": "present-mistress",
   "metadata": {},
   "outputs": [],
   "source": []
  }
 ],
 "metadata": {
  "kernelspec": {
   "display_name": "Python 3",
   "language": "python",
   "name": "python3"
  },
  "language_info": {
   "codemirror_mode": {
    "name": "ipython",
    "version": 3
   },
   "file_extension": ".py",
   "mimetype": "text/x-python",
   "name": "python",
   "nbconvert_exporter": "python",
   "pygments_lexer": "ipython3",
   "version": "3.12.1"
  }
 },
 "nbformat": 4,
 "nbformat_minor": 5
}
